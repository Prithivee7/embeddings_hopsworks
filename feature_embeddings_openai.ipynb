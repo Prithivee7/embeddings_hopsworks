{
  "cells": [
    {
      "cell_type": "code",
      "execution_count": null,
      "metadata": {
        "id": "mu12seXFcBXr"
      },
      "outputs": [],
      "source": [
        "# !pip install hopsworks\n",
        "# !pip install langchain\n",
        "# !pip install tiktoken\n",
        "# !pip install openai\n",
        "# !pip install hsfs"
      ]
    },
    {
      "cell_type": "code",
      "execution_count": 55,
      "metadata": {
        "id": "nD1ELpeicn0L"
      },
      "outputs": [],
      "source": [
        "from langchain.document_loaders import PyPDFLoader\n",
        "from langchain.text_splitter import RecursiveCharacterTextSplitter\n",
        "from langchain.embeddings import OpenAIEmbeddings\n",
        "from langchain.chat_models import ChatOpenAI\n",
        "from langchain.prompts import PromptTemplate\n",
        "from langchain.document_loaders import TextLoader, DirectoryLoader\n",
        "import os\n",
        "import hopsworks\n",
        "import pandas as pd"
      ]
    },
    {
      "cell_type": "code",
      "execution_count": 36,
      "metadata": {
        "id": "XL_wn99Kcu5V"
      },
      "outputs": [],
      "source": [
        "# Set the OpenAI API key as an environment variable\n",
        "OPENAI_API_KEY = \"your_api_key_here\"\n",
        "os.environ[\"OPENAI_API_KEY\"] = OPENAI_API_KEY"
      ]
    },
    {
      "cell_type": "markdown",
      "metadata": {
        "id": "oJng4t7qeEU1"
      },
      "source": [
        "### Loading the documents using DirectoryLoader"
      ]
    },
    {
      "cell_type": "code",
      "execution_count": 22,
      "metadata": {
        "colab": {
          "base_uri": "https://localhost:8080/"
        },
        "id": "uRvI1o03dYZA",
        "outputId": "285e3d8a-facc-4401-9b92-33599a11f9d2"
      },
      "outputs": [
        {
          "name": "stdout",
          "output_type": "stream",
          "text": [
            "Number of documents is  3\n"
          ]
        }
      ],
      "source": [
        "def load_documents():\n",
        "    loader = DirectoryLoader('Elements', loader_cls=TextLoader)\n",
        "    docs = loader.load()\n",
        "    print(\"Number of documents is \",len(docs))\n",
        "    return docs"
      ]
    },
    {
      "cell_type": "markdown",
      "metadata": {
        "id": "AWYBYn9KeM5I"
      },
      "source": [
        "### Creating chunks on the loaded documents"
      ]
    },
    {
      "cell_type": "code",
      "execution_count": 17,
      "metadata": {
        "id": "yyzMvYehdtCo"
      },
      "outputs": [],
      "source": [
        "def create_chunks(content,chunk_size=250,chunk_overlap=10):\n",
        "    text_splitter = RecursiveCharacterTextSplitter.from_tiktoken_encoder(chunk_size=chunk_size,chunk_overlap=chunk_overlap)\n",
        "    texts = text_splitter.split_documents(content)\n",
        "    return texts"
      ]
    },
    {
      "cell_type": "markdown",
      "metadata": {
        "id": "6Rg8nIs1gFGb"
      },
      "source": [
        "### Create embeddings for the chunked data"
      ]
    },
    {
      "cell_type": "code",
      "execution_count": 52,
      "metadata": {
        "id": "MiDH1708gEjj"
      },
      "outputs": [],
      "source": [
        "def get_embedding(chunk_data, embedding_object):\n",
        "    embedded_chunk = embedding_object.embed_query(chunk_data)\n",
        "    return embedded_chunk"
      ]
    },
    {
      "cell_type": "markdown",
      "metadata": {},
      "source": [
        "### Driver "
      ]
    },
    {
      "cell_type": "code",
      "execution_count": null,
      "metadata": {
        "id": "btNIVmdfp9r0"
      },
      "outputs": [],
      "source": [
        "docs = load_documents()\n",
        "split_data = create_chunks(docs,chunk_size=750,chunk_overlap=50)\n",
        "embedding_object = OpenAIEmbeddings(model=\"text-embedding-ada-002\")\n",
        "embedded_data = [get_embedding(chunk.page_content, embedding_object) for chunk in split_data]"
      ]
    },
    {
      "cell_type": "code",
      "execution_count": 69,
      "metadata": {
        "colab": {
          "base_uri": "https://localhost:8080/"
        },
        "id": "1XQjwMXIrhID",
        "outputId": "c634a28b-1748-4032-e32e-20ac9891b323"
      },
      "outputs": [
        {
          "data": {
            "text/plain": [
              "1536"
            ]
          },
          "execution_count": 69,
          "metadata": {},
          "output_type": "execute_result"
        }
      ],
      "source": [
        "# Each embedding has a fixed length of 1536 as it is the OpenAI standard\n",
        "len(embedded_data[0])"
      ]
    },
    {
      "cell_type": "markdown",
      "metadata": {
        "id": "7f3Gri6Hfq4U"
      },
      "source": [
        "### Logging to Hopsworks"
      ]
    },
    {
      "cell_type": "code",
      "execution_count": 79,
      "metadata": {
        "colab": {
          "base_uri": "https://localhost:8080/"
        },
        "id": "aRE9lAztfgau",
        "outputId": "a3b6f79c-50f9-4f92-9f8c-8533bca9f262"
      },
      "outputs": [
        {
          "name": "stdout",
          "output_type": "stream",
          "text": [
            "Connected. Call `.close()` to terminate connection gracefully.\n",
            "\n",
            "Logged in to project, explore it here https://c.app.hopsworks.ai:443/p/105630\n",
            "Connected. Call `.close()` to terminate connection gracefully.\n"
          ]
        }
      ],
      "source": [
        "hopsworks_project = hopsworks.login()\n",
        "fs = hopsworks_project.get_feature_store()"
      ]
    },
    {
      "cell_type": "code",
      "execution_count": 73,
      "metadata": {
        "id": "uaVIncUHft-Q"
      },
      "outputs": [],
      "source": [
        "# Creating the dataframe which is to be uploaded to the feature group\n",
        "data = {\n",
        "    \"text\" : [chunk.page_content for chunk in split_data],\n",
        "    \"embeddings\" : embedded_data\n",
        "}\n",
        "df = pd.DataFrame(data)\n",
        "df['p_key'] = [i for i in range(1,len(df)+1)]"
      ]
    },
    {
      "cell_type": "code",
      "execution_count": 81,
      "metadata": {
        "id": "t3X56JPEqzKk"
      },
      "outputs": [],
      "source": [
        "# Create a feature group\n",
        "# Provide a name, version, description and the primary key column\n",
        "openai_embedding_fg = fs.get_or_create_feature_group(\n",
        "\t\tname=\"openai_embedding\",\n",
        "    version=1,\n",
        "    description=\"Embedding data for elements\",\n",
        "    primary_key=['p_key'],\n",
        "    online_enabled=True)"
      ]
    },
    {
      "cell_type": "code",
      "execution_count": null,
      "metadata": {
        "colab": {
          "base_uri": "https://localhost:8080/",
          "height": 153,
          "referenced_widgets": [
            "c43ac57ec0344fd8a5ce7dd4c0b4fdd8",
            "c9802a57924f4326aacfb97012f92c7d",
            "fbd087aab8934931893ca0b68621b166",
            "1c3350a3e79948c992ba04151da3a46f",
            "ff18cd9864874d8e9c269cadfe7035d3",
            "99140ba96b1246d392af0f4046b4b0b2",
            "cbca7269a5134475af545a4be998db38",
            "b8748a3876434892bfe59dd1f5d59535",
            "4c403fda50844915bda56cda77dd489d",
            "5bc88b7661974c60bb2e43ca122fe284",
            "b22f4d5883e64e2e9a05ee4a0368234a"
          ]
        },
        "id": "jxAqqserrIl-",
        "outputId": "e12b134a-5021-4d21-93de-e02322d6b957"
      },
      "outputs": [
        {
          "name": "stdout",
          "output_type": "stream",
          "text": [
            "Feature Group created successfully, explore it at \n",
            "https://c.app.hopsworks.ai:443/p/105630/fs/105549/fg/109033\n"
          ]
        },
        {
          "data": {
            "application/vnd.jupyter.widget-view+json": {
              "model_id": "c43ac57ec0344fd8a5ce7dd4c0b4fdd8",
              "version_major": 2,
              "version_minor": 0
            },
            "text/plain": [
              "Uploading Dataframe: 0.00% |          | Rows 0/37 | Elapsed Time: 00:00 | Remaining Time: ?"
            ]
          },
          "metadata": {},
          "output_type": "display_data"
        },
        {
          "name": "stdout",
          "output_type": "stream",
          "text": [
            "Launching job: openai_embedding_1_offline_fg_backfill\n",
            "Job started successfully, you can follow the progress at \n",
            "https://c.app.hopsworks.ai/p/105630/jobs/named/openai_embedding_1_offline_fg_backfill/executions\n"
          ]
        },
        {
          "data": {
            "text/plain": [
              "(<hsfs.core.job.Job at 0x78dd0d6b8160>, None)"
            ]
          },
          "execution_count": 82,
          "metadata": {},
          "output_type": "execute_result"
        }
      ],
      "source": [
        "# Insert the created dataframe to the recently created feature store.\n",
        "# We will get to know the status of the insertion via the link provided\n",
        "openai_embedding_fg.insert(df)"
      ]
    },
    {
      "cell_type": "code",
      "execution_count": null,
      "metadata": {},
      "outputs": [],
      "source": [
        "# Updating the Feature Descriptions\n",
        "# This step is for providing metadata information about our features\n",
        "\n",
        "feature_descriptions = [\n",
        "    {\"name\": \"text\", \"description\": \"The chunks for which the embeddings are created\"},\n",
        "    {\"name\": \"embeddings\", \"description\": \"The embeddings for the chunks\"},\n",
        "    {\"name\": \"p_key\", \"description\": \"This feature is used as a primary key\"},\n",
        "]\n",
        "\n",
        "for desciption in feature_descriptions:\n",
        "    openai_embedding_fg.update_feature_description(desciption[\"name\"], desciption[\"description\"])"
      ]
    },
    {
      "cell_type": "markdown",
      "metadata": {},
      "source": [
        "### Reading the stored embeddedings "
      ]
    },
    {
      "cell_type": "code",
      "execution_count": null,
      "metadata": {},
      "outputs": [],
      "source": [
        "import hsfs"
      ]
    },
    {
      "cell_type": "code",
      "execution_count": null,
      "metadata": {},
      "outputs": [],
      "source": [
        "# Connecting to hopsworks feature stores and reading the data from the feature group which we had created earlier\n",
        "connection = hsfs.connection()\n",
        "fs = connection.get_feature_store(name='practice_featurestore')\n",
        "fg = fs.get_feature_group('openai_embedding', version=1)"
      ]
    },
    {
      "cell_type": "code",
      "execution_count": null,
      "metadata": {},
      "outputs": [],
      "source": [
        "df = fg.read()"
      ]
    }
  ],
  "metadata": {
    "colab": {
      "provenance": []
    },
    "kernelspec": {
      "display_name": "Python 3",
      "name": "python3"
    },
    "language_info": {
      "name": "python"
    },
    "widgets": {
      "application/vnd.jupyter.widget-state+json": {
        "1c3350a3e79948c992ba04151da3a46f": {
          "model_module": "@jupyter-widgets/controls",
          "model_module_version": "1.5.0",
          "model_name": "HTMLModel",
          "state": {
            "_dom_classes": [],
            "_model_module": "@jupyter-widgets/controls",
            "_model_module_version": "1.5.0",
            "_model_name": "HTMLModel",
            "_view_count": null,
            "_view_module": "@jupyter-widgets/controls",
            "_view_module_version": "1.5.0",
            "_view_name": "HTMLView",
            "description": "",
            "description_tooltip": null,
            "layout": "IPY_MODEL_5bc88b7661974c60bb2e43ca122fe284",
            "placeholder": "​",
            "style": "IPY_MODEL_b22f4d5883e64e2e9a05ee4a0368234a",
            "value": " Rows 37/37 | Elapsed Time: 00:01 | Remaining Time: 00:00"
          }
        },
        "4c403fda50844915bda56cda77dd489d": {
          "model_module": "@jupyter-widgets/controls",
          "model_module_version": "1.5.0",
          "model_name": "ProgressStyleModel",
          "state": {
            "_model_module": "@jupyter-widgets/controls",
            "_model_module_version": "1.5.0",
            "_model_name": "ProgressStyleModel",
            "_view_count": null,
            "_view_module": "@jupyter-widgets/base",
            "_view_module_version": "1.2.0",
            "_view_name": "StyleView",
            "bar_color": null,
            "description_width": ""
          }
        },
        "5bc88b7661974c60bb2e43ca122fe284": {
          "model_module": "@jupyter-widgets/base",
          "model_module_version": "1.2.0",
          "model_name": "LayoutModel",
          "state": {
            "_model_module": "@jupyter-widgets/base",
            "_model_module_version": "1.2.0",
            "_model_name": "LayoutModel",
            "_view_count": null,
            "_view_module": "@jupyter-widgets/base",
            "_view_module_version": "1.2.0",
            "_view_name": "LayoutView",
            "align_content": null,
            "align_items": null,
            "align_self": null,
            "border": null,
            "bottom": null,
            "display": null,
            "flex": null,
            "flex_flow": null,
            "grid_area": null,
            "grid_auto_columns": null,
            "grid_auto_flow": null,
            "grid_auto_rows": null,
            "grid_column": null,
            "grid_gap": null,
            "grid_row": null,
            "grid_template_areas": null,
            "grid_template_columns": null,
            "grid_template_rows": null,
            "height": null,
            "justify_content": null,
            "justify_items": null,
            "left": null,
            "margin": null,
            "max_height": null,
            "max_width": null,
            "min_height": null,
            "min_width": null,
            "object_fit": null,
            "object_position": null,
            "order": null,
            "overflow": null,
            "overflow_x": null,
            "overflow_y": null,
            "padding": null,
            "right": null,
            "top": null,
            "visibility": null,
            "width": null
          }
        },
        "99140ba96b1246d392af0f4046b4b0b2": {
          "model_module": "@jupyter-widgets/base",
          "model_module_version": "1.2.0",
          "model_name": "LayoutModel",
          "state": {
            "_model_module": "@jupyter-widgets/base",
            "_model_module_version": "1.2.0",
            "_model_name": "LayoutModel",
            "_view_count": null,
            "_view_module": "@jupyter-widgets/base",
            "_view_module_version": "1.2.0",
            "_view_name": "LayoutView",
            "align_content": null,
            "align_items": null,
            "align_self": null,
            "border": null,
            "bottom": null,
            "display": null,
            "flex": null,
            "flex_flow": null,
            "grid_area": null,
            "grid_auto_columns": null,
            "grid_auto_flow": null,
            "grid_auto_rows": null,
            "grid_column": null,
            "grid_gap": null,
            "grid_row": null,
            "grid_template_areas": null,
            "grid_template_columns": null,
            "grid_template_rows": null,
            "height": null,
            "justify_content": null,
            "justify_items": null,
            "left": null,
            "margin": null,
            "max_height": null,
            "max_width": null,
            "min_height": null,
            "min_width": null,
            "object_fit": null,
            "object_position": null,
            "order": null,
            "overflow": null,
            "overflow_x": null,
            "overflow_y": null,
            "padding": null,
            "right": null,
            "top": null,
            "visibility": null,
            "width": null
          }
        },
        "b22f4d5883e64e2e9a05ee4a0368234a": {
          "model_module": "@jupyter-widgets/controls",
          "model_module_version": "1.5.0",
          "model_name": "DescriptionStyleModel",
          "state": {
            "_model_module": "@jupyter-widgets/controls",
            "_model_module_version": "1.5.0",
            "_model_name": "DescriptionStyleModel",
            "_view_count": null,
            "_view_module": "@jupyter-widgets/base",
            "_view_module_version": "1.2.0",
            "_view_name": "StyleView",
            "description_width": ""
          }
        },
        "b8748a3876434892bfe59dd1f5d59535": {
          "model_module": "@jupyter-widgets/base",
          "model_module_version": "1.2.0",
          "model_name": "LayoutModel",
          "state": {
            "_model_module": "@jupyter-widgets/base",
            "_model_module_version": "1.2.0",
            "_model_name": "LayoutModel",
            "_view_count": null,
            "_view_module": "@jupyter-widgets/base",
            "_view_module_version": "1.2.0",
            "_view_name": "LayoutView",
            "align_content": null,
            "align_items": null,
            "align_self": null,
            "border": null,
            "bottom": null,
            "display": null,
            "flex": null,
            "flex_flow": null,
            "grid_area": null,
            "grid_auto_columns": null,
            "grid_auto_flow": null,
            "grid_auto_rows": null,
            "grid_column": null,
            "grid_gap": null,
            "grid_row": null,
            "grid_template_areas": null,
            "grid_template_columns": null,
            "grid_template_rows": null,
            "height": null,
            "justify_content": null,
            "justify_items": null,
            "left": null,
            "margin": null,
            "max_height": null,
            "max_width": null,
            "min_height": null,
            "min_width": null,
            "object_fit": null,
            "object_position": null,
            "order": null,
            "overflow": null,
            "overflow_x": null,
            "overflow_y": null,
            "padding": null,
            "right": null,
            "top": null,
            "visibility": null,
            "width": null
          }
        },
        "c43ac57ec0344fd8a5ce7dd4c0b4fdd8": {
          "model_module": "@jupyter-widgets/controls",
          "model_module_version": "1.5.0",
          "model_name": "HBoxModel",
          "state": {
            "_dom_classes": [],
            "_model_module": "@jupyter-widgets/controls",
            "_model_module_version": "1.5.0",
            "_model_name": "HBoxModel",
            "_view_count": null,
            "_view_module": "@jupyter-widgets/controls",
            "_view_module_version": "1.5.0",
            "_view_name": "HBoxView",
            "box_style": "",
            "children": [
              "IPY_MODEL_c9802a57924f4326aacfb97012f92c7d",
              "IPY_MODEL_fbd087aab8934931893ca0b68621b166",
              "IPY_MODEL_1c3350a3e79948c992ba04151da3a46f"
            ],
            "layout": "IPY_MODEL_ff18cd9864874d8e9c269cadfe7035d3"
          }
        },
        "c9802a57924f4326aacfb97012f92c7d": {
          "model_module": "@jupyter-widgets/controls",
          "model_module_version": "1.5.0",
          "model_name": "HTMLModel",
          "state": {
            "_dom_classes": [],
            "_model_module": "@jupyter-widgets/controls",
            "_model_module_version": "1.5.0",
            "_model_name": "HTMLModel",
            "_view_count": null,
            "_view_module": "@jupyter-widgets/controls",
            "_view_module_version": "1.5.0",
            "_view_name": "HTMLView",
            "description": "",
            "description_tooltip": null,
            "layout": "IPY_MODEL_99140ba96b1246d392af0f4046b4b0b2",
            "placeholder": "​",
            "style": "IPY_MODEL_cbca7269a5134475af545a4be998db38",
            "value": "Uploading Dataframe: 100.00% "
          }
        },
        "cbca7269a5134475af545a4be998db38": {
          "model_module": "@jupyter-widgets/controls",
          "model_module_version": "1.5.0",
          "model_name": "DescriptionStyleModel",
          "state": {
            "_model_module": "@jupyter-widgets/controls",
            "_model_module_version": "1.5.0",
            "_model_name": "DescriptionStyleModel",
            "_view_count": null,
            "_view_module": "@jupyter-widgets/base",
            "_view_module_version": "1.2.0",
            "_view_name": "StyleView",
            "description_width": ""
          }
        },
        "fbd087aab8934931893ca0b68621b166": {
          "model_module": "@jupyter-widgets/controls",
          "model_module_version": "1.5.0",
          "model_name": "FloatProgressModel",
          "state": {
            "_dom_classes": [],
            "_model_module": "@jupyter-widgets/controls",
            "_model_module_version": "1.5.0",
            "_model_name": "FloatProgressModel",
            "_view_count": null,
            "_view_module": "@jupyter-widgets/controls",
            "_view_module_version": "1.5.0",
            "_view_name": "ProgressView",
            "bar_style": "success",
            "description": "",
            "description_tooltip": null,
            "layout": "IPY_MODEL_b8748a3876434892bfe59dd1f5d59535",
            "max": 37,
            "min": 0,
            "orientation": "horizontal",
            "style": "IPY_MODEL_4c403fda50844915bda56cda77dd489d",
            "value": 37
          }
        },
        "ff18cd9864874d8e9c269cadfe7035d3": {
          "model_module": "@jupyter-widgets/base",
          "model_module_version": "1.2.0",
          "model_name": "LayoutModel",
          "state": {
            "_model_module": "@jupyter-widgets/base",
            "_model_module_version": "1.2.0",
            "_model_name": "LayoutModel",
            "_view_count": null,
            "_view_module": "@jupyter-widgets/base",
            "_view_module_version": "1.2.0",
            "_view_name": "LayoutView",
            "align_content": null,
            "align_items": null,
            "align_self": null,
            "border": null,
            "bottom": null,
            "display": null,
            "flex": null,
            "flex_flow": null,
            "grid_area": null,
            "grid_auto_columns": null,
            "grid_auto_flow": null,
            "grid_auto_rows": null,
            "grid_column": null,
            "grid_gap": null,
            "grid_row": null,
            "grid_template_areas": null,
            "grid_template_columns": null,
            "grid_template_rows": null,
            "height": null,
            "justify_content": null,
            "justify_items": null,
            "left": null,
            "margin": null,
            "max_height": null,
            "max_width": null,
            "min_height": null,
            "min_width": null,
            "object_fit": null,
            "object_position": null,
            "order": null,
            "overflow": null,
            "overflow_x": null,
            "overflow_y": null,
            "padding": null,
            "right": null,
            "top": null,
            "visibility": null,
            "width": null
          }
        }
      }
    }
  },
  "nbformat": 4,
  "nbformat_minor": 0
}
